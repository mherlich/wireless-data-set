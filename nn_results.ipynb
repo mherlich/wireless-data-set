{
 "cells": [
  {
   "cell_type": "code",
   "execution_count": null,
   "metadata": {},
   "outputs": [],
   "source": [
    "import numpy as np\n",
    "import pandas as pd\n",
    "import guild.ipy as guild\n",
    "import matplotlib.pyplot as plt\n",
    "\n",
    "METRICS = ['MAE', \"R2\"]   "
   ]
  },
  {
   "cell_type": "code",
   "execution_count": null,
   "metadata": {},
   "outputs": [],
   "source": [
    "runs = guild.runs()\n",
    "comp = runs.compare()"
   ]
  },
  {
   "cell_type": "code",
   "execution_count": null,
   "metadata": {},
   "outputs": [],
   "source": [
    "comp[comp.operation==\"optimal\"][METRICS].agg([\"min\", \"median\", \"mean\", \"max\"])"
   ]
  },
  {
   "cell_type": "code",
   "execution_count": null,
   "metadata": {},
   "outputs": [],
   "source": [
    "comp[comp.operation==\"next\"][METRICS].agg([\"min\", \"median\", \"mean\", \"max\"])"
   ]
  },
  {
   "cell_type": "code",
   "execution_count": null,
   "metadata": {},
   "outputs": [],
   "source": [
    "comp[comp.operation==\"nodata\"][METRICS].agg([\"min\", \"median\", \"mean\", \"max\"])"
   ]
  },
  {
   "cell_type": "code",
   "execution_count": null,
   "metadata": {},
   "outputs": [],
   "source": [
    "comp[comp.operation==\"local\"][METRICS].agg([\"min\", \"median\", \"mean\", \"max\"])"
   ]
  },
  {
   "cell_type": "code",
   "execution_count": null,
   "metadata": {},
   "outputs": [],
   "source": [
    "comp[comp.operation==\"map\"][METRICS].agg([\"min\", \"median\", \"mean\", \"max\"])"
   ]
  },
  {
   "cell_type": "code",
   "execution_count": null,
   "metadata": {},
   "outputs": [],
   "source": [
    "g = comp[-comp[\"operation\"].str.contains(\"\\+\")].groupby(\"operation\")\n",
    "r = pd.DataFrame(g[\"MAE\"].min())\n",
    "r[\"R2\"] = g[\"R2\"].max()\n",
    "r = r.sort_values(\"MAE\")\n",
    "r[\"MAE M\"] = r[\"MAE\"]/1e6\n",
    "r[\"Scenario\"] = \"\\\\\"+r.index.str[0:3]\n",
    "r[\"Future data rates\"] = g[\"input_succDR\"].max() > 0\n",
    "r[\"Past data rates\"] = g[\"input_prevDR\"].max() > 0\n",
    "r[\"Positions\"] = g[\"inputs\"].max().str.contains(\"lat, long\")\n",
    "r[\"Signal strengths\"] = g[\"inputs\"].max().str.contains(\"rsrq, rsrp, rssi, sinr, signal\")"
   ]
  },
  {
   "cell_type": "code",
   "execution_count": null,
   "metadata": {},
   "outputs": [],
   "source": [
    "f = r[[\"Scenario\", \"Future data rates\", \"Past data rates\", \"Positions\", \"Signal strengths\", \"MAE M\", \"R2\"]].to_latex(\n",
    "    index=False, float_format=\"%.2f\", escape=False, column_format=\"lccccSS\")\n",
    "\n",
    "# Fix export problem when index is False\n",
    "t = f.splitlines()\n",
    "t[3], t[4] = t[4], t[3]\n",
    "f = \"\\n\".join(t)\n",
    "    \n",
    "# Make changes to formatting for paper\n",
    "f = f.replace(\"True\", \"\\checkmark\").replace(\"False\", \"\").replace(\n",
    "        \"Scenario &  Future data rates &  Past data rates &  Positions &  Signal strengths &  MAE M &   R2 \\\\\",\n",
    "        \"\"\"Scenario & \\multicolumn{4}{c}{Inputs} & {MAE} & {\\!\\!\\!$R^2$\\!\\!\\!}\\\\\\\\\n",
    "           & \\multicolumn{2}{c}{Data rates} & \\!Positions\\! & Signal & \\!\\!{[\\\\si{\\\\mega\\\\bit\\\\per\\\\second}]}\\!\\! & \\\\\\\\\n",
    "           & \\!Future\\! & \\!Past\\! & & \\!\\!strengths\\!\\!& \\\\\"\"\"\n",
    "    )\n",
    "\n",
    "print(f)"
   ]
  }
 ],
 "metadata": {
  "interpreter": {
   "hash": "5dd39fe73bb53cdb658671675fabb8cc2d43762d2d17cef98e52fe9a4903fa93"
  },
  "kernelspec": {
   "display_name": "Python 3.8.1 64-bit ('guild': conda)",
   "name": "python3"
  },
  "language_info": {
   "codemirror_mode": {
    "name": "ipython",
    "version": 3
   },
   "file_extension": ".py",
   "mimetype": "text/x-python",
   "name": "python",
   "nbconvert_exporter": "python",
   "pygments_lexer": "ipython3",
   "version": "3.8.1"
  }
 },
 "nbformat": 4,
 "nbformat_minor": 4
}
