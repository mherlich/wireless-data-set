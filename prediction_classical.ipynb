{
 "cells": [
  {
   "cell_type": "code",
   "execution_count": null,
   "metadata": {},
   "outputs": [],
   "source": [
    "import sys\n",
    "import datetime\n",
    "import numpy as np\n",
    "import pandas as pd\n",
    "import geopandas as gpd\n",
    "import contextily as ctx\n",
    "import matplotlib.pyplot as plt\n",
    "import sklearn.linear_model\n",
    "import geopy.distance\n",
    "\n",
    "import utils"
   ]
  },
  {
   "cell_type": "code",
   "execution_count": null,
   "metadata": {
    "tags": []
   },
   "outputs": [],
   "source": [
    "df = pd.read_feather('SRFG-v1.fth')"
   ]
  },
  {
   "cell_type": "markdown",
   "metadata": {},
   "source": [
    "# Constant predictions"
   ]
  },
  {
   "cell_type": "code",
   "execution_count": null,
   "metadata": {},
   "outputs": [],
   "source": [
    "p = pd.DataFrame(index=df['datarate'].index)\n",
    "p['const(mean)'] = np.repeat(df['datarate'].mean(), len(df))\n",
    "p['const(median)'] = np.repeat(df['datarate'].median(), len(df))"
   ]
  },
  {
   "cell_type": "markdown",
   "metadata": {},
   "source": [
    "# Basic lookups"
   ]
  },
  {
   "cell_type": "code",
   "execution_count": null,
   "metadata": {
    "tags": []
   },
   "outputs": [],
   "source": [
    "for v in [\"sinr\", \"signal\", \"rsrq\", \"rsrp\", \"rssi\"]:\n",
    "    lookup = df.groupby(v, dropna=False)['datarate'].median()\n",
    "    p[v+'-Lookup'] = list(lookup[df[v]])\n",
    "    print(v, df[v].isna().sum())\n",
    "    lookup.plot()\n",
    "    plt.show()"
   ]
  },
  {
   "cell_type": "code",
   "execution_count": null,
   "metadata": {},
   "outputs": [],
   "source": [
    "for i in range(2, 6):\n",
    "    print(geopy.distance.geodesic((df[\"lat\"].mean(), df[\"long\"].mean()), (df[\"lat\"].mean(), df[\"long\"].mean()+10**-i)).meters)\n",
    "    lookup = df.groupby(round(df.long, i), dropna=False)['datarate'].median()\n",
    "    p['long-Lookup'+str(i)] = list(lookup[round(df[\"long\"], i)])\n",
    "    lookup.plot()\n",
    "    plt.show()"
   ]
  },
  {
   "cell_type": "markdown",
   "metadata": {},
   "source": [
    "# Estimation from other data rates"
   ]
  },
  {
   "cell_type": "code",
   "execution_count": null,
   "metadata": {},
   "outputs": [],
   "source": [
    "p['prevDR'] = (df[\"datarate\"].shift(1) * df[\"predecessor\"]).fillna(df[\"datarate\"].shift(1) * df[\"predecessor2\"]).fillna(df[\"datarate\"].mean())"
   ]
  },
  {
   "cell_type": "code",
   "execution_count": null,
   "metadata": {},
   "outputs": [],
   "source": [
    "tp = (df[\"datarate\"].shift(1) * df[\"predecessor\"]).fillna(df[\"datarate\"].shift(1) * df[\"predecessor2\"])\n",
    "ts = (df[\"datarate\"].shift(-1) * df[\"predecessor\"].shift(-1)).fillna(df[\"datarate\"].shift(-1) * df[\"predecessor2\"].shift(-1))\n",
    "p['meanDR'] = ((tp+ts)/2).fillna(tp).fillna(ts).fillna(df[\"datarate\"].mean())"
   ]
  },
  {
   "cell_type": "markdown",
   "metadata": {},
   "source": [
    "# Evaluation"
   ]
  },
  {
   "cell_type": "code",
   "execution_count": null,
   "metadata": {
    "tags": []
   },
   "outputs": [],
   "source": [
    "r = utils.evaluate(p, df['datarate'])\n",
    "r[\"Strategy\"] = \"\\texttt{\" + r[\"Strategy\"] + \"}\"\n",
    "r[\"MAE [\\\\si{\\\\mega\\\\bit\\\\per\\\\second}]\"] = r[\"MAE\"]/1e6\n",
    "r[\"$R^2$\"] = r[\"R2\"]\n",
    "print(r[[\"Strategy\", \"MAE [\\\\si{\\\\mega\\\\bit\\\\per\\\\second}]\", \"$R^2$\"]].to_latex(index=False, float_format=\"%.2f\", escape=False))"
   ]
  }
 ],
 "metadata": {
  "interpreter": {
   "hash": "825b43056c2c23098f641e3eca93d3ddf4594fdbc6fc0765725678c6902a5814"
  },
  "kernelspec": {
   "display_name": "Python 3.8.2 64-bit ('geo': conda)",
   "name": "python3"
  },
  "language_info": {
   "codemirror_mode": {
    "name": "ipython",
    "version": 3
   },
   "file_extension": ".py",
   "mimetype": "text/x-python",
   "name": "python",
   "nbconvert_exporter": "python",
   "pygments_lexer": "ipython3",
   "version": "3.8.2"
  }
 },
 "nbformat": 4,
 "nbformat_minor": 4
}
