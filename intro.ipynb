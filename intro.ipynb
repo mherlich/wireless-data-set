{
 "cells": [
  {
   "cell_type": "code",
   "execution_count": null,
   "metadata": {},
   "outputs": [],
   "source": [
    "import os\n",
    "import re\n",
    "import datetime\n",
    "import numpy as np\n",
    "import pandas as pd\n",
    "import geopandas as gpd\n",
    "import contextily as ctx\n",
    "import matplotlib.pyplot as plt"
   ]
  },
  {
   "cell_type": "code",
   "execution_count": null,
   "metadata": {
    "tags": []
   },
   "outputs": [],
   "source": [
    "df = pd.read_feather('SRFG-v1.fth')"
   ]
  },
  {
   "cell_type": "code",
   "execution_count": null,
   "metadata": {},
   "outputs": [],
   "source": [
    "df.columns"
   ]
  },
  {
   "cell_type": "code",
   "execution_count": null,
   "metadata": {},
   "outputs": [],
   "source": [
    "len(df)"
   ]
  },
  {
   "cell_type": "markdown",
   "metadata": {},
   "source": [
    "# Overview"
   ]
  },
  {
   "cell_type": "code",
   "execution_count": null,
   "metadata": {},
   "outputs": [],
   "source": [
    "df.drop(\"newpos\", axis='columns').hist(figsize=(25,15), bins=101);"
   ]
  },
  {
   "cell_type": "code",
   "execution_count": null,
   "metadata": {},
   "outputs": [],
   "source": [
    "gdf = gpd.GeoDataFrame(df, crs='EPSG:4326', geometry=gpd.points_from_xy(df['long'], df['lat']))\n",
    "ax = gdf.plot(figsize=(25, 15), marker='.', alpha=0.1)\n",
    "ctx.add_basemap(ax, source=ctx.providers.OpenStreetMap.Mapnik, crs=gdf.crs)"
   ]
  },
  {
   "cell_type": "markdown",
   "metadata": {},
   "source": [
    "# Location"
   ]
  },
  {
   "cell_type": "code",
   "execution_count": null,
   "metadata": {},
   "outputs": [],
   "source": [
    "df.groupby(df.long.round(3))['datarate'].median().plot();"
   ]
  },
  {
   "cell_type": "code",
   "execution_count": null,
   "metadata": {},
   "outputs": [],
   "source": [
    "ax = df.boxplot('datarate', by=df.long.round(2), rot=90)\n",
    "plt.suptitle('')\n",
    "plt.gca().xaxis.set_label_text('');"
   ]
  },
  {
   "cell_type": "markdown",
   "metadata": {},
   "source": [
    "# Directions and time"
   ]
  },
  {
   "cell_type": "code",
   "execution_count": null,
   "metadata": {},
   "outputs": [],
   "source": [
    "df[\"dlong\"].hist(bins=101);\n",
    "# Note: 0.0005/360 * earth circumference * cos(47°)/s = 136.7 km/h"
   ]
  },
  {
   "cell_type": "code",
   "execution_count": null,
   "metadata": {},
   "outputs": [],
   "source": [
    "df[\"time\"].groupby(df[\"time\"].dt.hour).count().plot(kind=\"bar\");"
   ]
  },
  {
   "cell_type": "code",
   "execution_count": null,
   "metadata": {},
   "outputs": [],
   "source": [
    "ax = df[\"time\"][df.dlong<0].groupby(df[\"time\"].dt.hour).count().plot(kind=\"bar\", color='blue', alpha=0.7)\n",
    "ax = df[\"time\"][df.dlong>0].groupby(df[\"time\"].dt.hour).count().plot(ax=ax, kind=\"bar\", color='orange', alpha=0.7)"
   ]
  },
  {
   "cell_type": "code",
   "execution_count": null,
   "metadata": {},
   "outputs": [],
   "source": [
    "ax = df[df.dlong<0].groupby(df.long.round(3))['datarate'].mean().plot()\n",
    "ax = df[df.dlong>0].groupby(df.long.round(3))['datarate'].mean().plot(ax=ax);"
   ]
  },
  {
   "cell_type": "code",
   "execution_count": null,
   "metadata": {},
   "outputs": [],
   "source": [
    "ax = df.plot.scatter(x=\"long\", y=\"rssi\", alpha=0.1, marker='.', color='blue')"
   ]
  },
  {
   "cell_type": "code",
   "execution_count": null,
   "metadata": {},
   "outputs": [],
   "source": [
    "start = df.time.min()\n",
    "map = dict(df.groupby([(df.time-start).dt.days, df.long.round(3)])['datarate'].mean())\n",
    "X = range((df.time-start).dt.days.min(), (df.time-start).dt.days.max()+1)\n",
    "Y = sorted(df.long.round(3).unique())\n",
    "Z = np.array([[map[x,y] if (x,y) in map else np.nan for x in X] for y in Y])\n",
    "plt.pcolormesh(X, Y, Z, shading='auto')\n",
    "plt.colorbar()\n",
    "plt.gcf().set_size_inches(25, 15)"
   ]
  },
  {
   "cell_type": "markdown",
   "metadata": {},
   "source": [
    "# Correlations"
   ]
  },
  {
   "cell_type": "code",
   "execution_count": null,
   "metadata": {},
   "outputs": [],
   "source": [
    "df.corr()"
   ]
  },
  {
   "cell_type": "markdown",
   "metadata": {},
   "source": [
    "# Gaps in measurements"
   ]
  },
  {
   "cell_type": "code",
   "execution_count": null,
   "metadata": {},
   "outputs": [],
   "source": [
    "print(\"1 second interval:\", (df[\"time\"].diff() == datetime.timedelta(seconds = 1)).mean())\n",
    "print(\"2 second interval:\", (df[\"time\"].diff() == datetime.timedelta(seconds = 2)).mean())\n",
    "print(\"3 second interval:\", (df[\"time\"].diff() == datetime.timedelta(seconds = 3)).mean())\n",
    "print(\">3 second interval:\", (df[\"time\"].diff() > datetime.timedelta(seconds = 3)).mean())"
   ]
  },
  {
   "cell_type": "markdown",
   "metadata": {},
   "source": [
    "# Data rate scatter plots"
   ]
  },
  {
   "cell_type": "code",
   "execution_count": null,
   "metadata": {},
   "outputs": [],
   "source": [
    "for c in ['lat', 'long', 'ele', 'rsrq', 'sinr', 'signal', 'pci', 'rssi', 'netmode', 'rsrp', 'dlong', 'dlat', 'line']:\n",
    "    df.plot.scatter(x=c, y=\"datarate\", marker='.', alpha=0.01)"
   ]
  },
  {
   "cell_type": "markdown",
   "metadata": {},
   "source": [
    "# Signal strength scatter plots"
   ]
  },
  {
   "cell_type": "code",
   "execution_count": null,
   "metadata": {},
   "outputs": [],
   "source": [
    "t = [\"rssi\", \"rsrq\", \"rsrp\", \"signal\", \"sinr\"]\n",
    "fig, axs = plt.subplots(len(t), len(t))\n",
    "for i in range(len(t)):\n",
    "    for j in range(len(t)):\n",
    "        if (i==j):\n",
    "            ax = df[t[i]].hist(ax=axs[i,j], figsize=(25,15), bins=101)\n",
    "        else:\n",
    "            ax = df.plot.scatter(ax=axs[i,j], x=t[j], y=t[i], figsize=(25,15), marker='.', alpha=0.01)"
   ]
  },
  {
   "cell_type": "markdown",
   "metadata": {},
   "source": [
    "# Cell ids"
   ]
  },
  {
   "cell_type": "code",
   "execution_count": null,
   "metadata": {},
   "outputs": [],
   "source": [
    "id_times = df.groupby(\"cell_id\")[\"time\"]\n",
    "durations = id_times.max() - id_times.min()\n",
    "long_duration_cells = durations[durations > '8 00:00:00'] # Select only cell_ids seen for at least a week\n",
    "ax = df[(df.cell_id.isin(long_duration_cells.index))].plot.scatter(x='time', y=\"cell_id\", marker='.', alpha=0.01, figsize=(25,15))"
   ]
  }
 ],
 "metadata": {
  "interpreter": {
   "hash": "825b43056c2c23098f641e3eca93d3ddf4594fdbc6fc0765725678c6902a5814"
  },
  "kernelspec": {
   "display_name": "Python 3.8.2 64-bit ('geo': conda)",
   "name": "python3"
  },
  "language_info": {
   "codemirror_mode": {
    "name": "ipython",
    "version": 3
   },
   "file_extension": ".py",
   "mimetype": "text/x-python",
   "name": "python",
   "nbconvert_exporter": "python",
   "pygments_lexer": "ipython3",
   "version": "3.8.2"
  }
 },
 "nbformat": 4,
 "nbformat_minor": 4
}
